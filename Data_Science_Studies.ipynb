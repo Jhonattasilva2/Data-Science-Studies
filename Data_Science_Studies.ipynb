{
  "cells": [
    {
      "cell_type": "markdown",
      "metadata": {
        "id": "view-in-github",
        "colab_type": "text"
      },
      "source": [
        "<a href=\"https://colab.research.google.com/github/Jhonattasilva2/Data-Science-Studies/blob/main/Data_Science_Studies.ipynb\" target=\"_parent\"><img src=\"https://colab.research.google.com/assets/colab-badge.svg\" alt=\"Open In Colab\"/></a>"
      ]
    },
    {
      "cell_type": "code",
      "execution_count": null,
      "metadata": {
        "colab": {
          "base_uri": "https://localhost:8080/",
          "height": 447
        },
        "id": "lqI3SMHE_7SU",
        "outputId": "b3f85a51-effd-4014-d823-f95c7ee45a71"
      },
      "outputs": [
        {
          "data": {
            "text/plain": [
              "<BarContainer object of 3 artists>"
            ]
          },
          "execution_count": 10,
          "metadata": {},
          "output_type": "execute_result"
        },
        {
          "data": {
            "image/png": "[encoded data removed]",
            "text/plain": [
              "<Figure size 640x480 with 1 Axes>"
            ]
          },
          "metadata": {},
          "output_type": "display_data"
        }
      ],
      "source": [
        "import matplotlib.pyplot as plt\n",
        "\n",
        "\n",
        "estudantes = ['Joao', 'Maria', 'Jose']\n",
        "notas = [8.5, 9, 6.5]\n",
        "\n",
        "\n",
        "plt.bar(x = estudantes, height = notas)"
      ]
    },
    {
      "cell_type": "code",
      "source": [
        "from random import choice\n",
        "\n",
        "lista = [8, 12, 54, 23, 43, 1, 90, 87, 105, 77]\n",
        "\n",
        "number = choice(lista)\n",
        "number"
      ],
      "metadata": {
        "colab": {
          "base_uri": "https://localhost:8080/"
        },
        "id": "B3g-xmzLttAM",
        "outputId": "98360f35-4766-4aaa-fc0a-2c8d283a4b00"
      },
      "execution_count": null,
      "outputs": [
        {
          "output_type": "execute_result",
          "data": {
            "text/plain": [
              "87"
            ]
          },
          "metadata": {},
          "execution_count": 6
        }
      ]
    },
    {
      "cell_type": "code",
      "source": [
        "import math\n",
        "\n",
        "primeiro_numero = int(input('Digite o primeiro numero inteiro: '))\n",
        "segundo_numero = int(input('Digite o segundo numero inteiro: '))\n",
        "\n",
        "pow(primeiro_numero, segundo_numero)"
      ],
      "metadata": {
        "id": "0wFXSmvKv_47",
        "colab": {
          "base_uri": "https://localhost:8080/"
        },
        "outputId": "352af9b3-ce31-41dd-8baa-34f96c1f241a"
      },
      "execution_count": null,
      "outputs": [
        {
          "name": "stdout",
          "output_type": "stream",
          "text": [
            "Digite o primeiro numero inteiro: 8\n",
            "Digite o segundo numero inteiro: 4\n"
          ]
        },
        {
          "output_type": "execute_result",
          "data": {
            "text/plain": [
              "4096"
            ]
          },
          "metadata": {},
          "execution_count": 8
        }
      ]
    },
    {
      "cell_type": "code",
      "source": [
        "from random import randint\n",
        "\n",
        "numero = int(input('Digite o nº de participantes do sorteio: '))\n",
        "\n",
        "print(f'O número sorteado foi o {randint(1, numero)}')"
      ],
      "metadata": {
        "id": "HBw4a4hvE_Q2",
        "colab": {
          "base_uri": "https://localhost:8080/"
        },
        "outputId": "3173afaa-ff01-435c-8134-ed0b71df0860"
      },
      "execution_count": null,
      "outputs": [
        {
          "output_type": "stream",
          "name": "stdout",
          "text": [
            "Digite o nº de participantes do sorteio: 89\n",
            "O número sorteado foi o 43\n"
          ]
        }
      ]
    },
    {
      "cell_type": "code",
      "source": [
        "from random import randrange\n",
        "\n",
        "nome = input('Digite seu nome: ')\n",
        "\n",
        "token = randrange(1000, 9998, 2)\n",
        "\n",
        "print(f'Olá {nome} seu token é {token}, bem vindo!')"
      ],
      "metadata": {
        "colab": {
          "base_uri": "https://localhost:8080/"
        },
        "id": "CK9GXz8hLhVm",
        "outputId": "e5f72b69-501d-4c1c-b967-d3b877b3c098"
      },
      "execution_count": null,
      "outputs": [
        {
          "output_type": "stream",
          "name": "stdout",
          "text": [
            "Digite seu nome: Jão\n",
            "Olá Jão seu token é 7916, bem vindo!\n"
          ]
        }
      ]
    },
    {
      "cell_type": "code",
      "source": [
        "from random import choices\n",
        "\n",
        "frutas = [\"maçã\", \"banana\", \"uva\", \"pêra\",\n",
        "          \"manga\", \"coco\", \"melancia\", \"mamão\",\n",
        "          \"laranja\", \"abacaxi\", \"kiwi\", \"ameixa\"]\n",
        "\n",
        "salada = choices(frutas, k=3)\n",
        "\n",
        "print(f'A Salada surpresa é: {salada[0], salada[1], salada[2]}')"
      ],
      "metadata": {
        "colab": {
          "base_uri": "https://localhost:8080/"
        },
        "id": "fRGXkkSDMODC",
        "outputId": "05ec4c0e-62ba-4e6c-869c-0ba24412a555"
      },
      "execution_count": null,
      "outputs": [
        {
          "output_type": "stream",
          "name": "stdout",
          "text": [
            "A Salada surpresa é: ('mamão', 'laranja', 'kiwi')\n"
          ]
        }
      ]
    },
    {
      "cell_type": "code",
      "source": [
        "from math import sqrt\n",
        "\n",
        "numeros = [2, 8, 15, 23, 91, 112, 256]\n",
        "\n",
        "raiz = []\n",
        "\n",
        "for numero in numeros:\n",
        "  raiz.append(sqrt(numero))\n",
        "\n",
        "\n",
        "for i in range(len(raiz)):\n",
        "  if raiz[i] // 1 == raiz[i]:\n",
        "    print(f'O número {numeros[i]} possui raiz quadrada inteira igual a {int(raiz[i])}')"
      ],
      "metadata": {
        "colab": {
          "base_uri": "https://localhost:8080/"
        },
        "id": "U94VBcowMz5t",
        "outputId": "8d09a27b-6b8a-4b3a-fb4b-382e4054a708"
      },
      "execution_count": null,
      "outputs": [
        {
          "output_type": "stream",
          "name": "stdout",
          "text": [
            "O número 256 possui raiz quadrada inteira igual a 16\n"
          ]
        }
      ]
    },
    {
      "cell_type": "code",
      "source": [
        "from math import pi, pow\n",
        "\n",
        "raio = float(input('Digite o raio da area circular em metros: '))\n",
        "\n",
        "area = pi*pow(raio, 2)\n",
        "valor = area * 25.00\n",
        "\n",
        "print(f'Você precisará pagar R$ {round(valor,2)} por uma área de {round(area, 2)} metros de grama')"
      ],
      "metadata": {
        "colab": {
          "base_uri": "https://localhost:8080/"
        },
        "id": "cQmFRM1FORh7",
        "outputId": "49fd3650-4dfc-4b35-acc7-23bd8a379e47"
      },
      "execution_count": null,
      "outputs": [
        {
          "output_type": "stream",
          "name": "stdout",
          "text": [
            "Digite o raio da area circular em metros: 3\n",
            "Você precisará pagar R$ 706.86 por uma área de 28.27 metros de grama\n"
          ]
        }
      ]
    },
    {
      "cell_type": "code",
      "source": [
        "peso = float(input('Digite o peso, em quilogramas: '))\n",
        "altura = float(input('Digite a altura, em metros: '))\n",
        "\n",
        "imc = round(peso / pow(altura, 2), 2)\n",
        "\n",
        "print(f'O IMC da pessoa é: {imc}')"
      ],
      "metadata": {
        "id": "odY0ZKwvP6YO",
        "colab": {
          "base_uri": "https://localhost:8080/"
        },
        "outputId": "ffe4e05a-b30b-4d4e-961e-79628197d1d2"
      },
      "execution_count": null,
      "outputs": [
        {
          "output_type": "stream",
          "name": "stdout",
          "text": [
            "Digite o peso, em quilogramas: 86\n",
            "Digite a altura, em metros1.83\n",
            "O IMC da pessoa é: 25.68\n"
          ]
        }
      ]
    },
    {
      "cell_type": "code",
      "source": [
        "def media():\n",
        "  calculo = (10 + 7 + 8) / 3\n",
        "  print(round(calculo,1))\n",
        "\n",
        "media()"
      ],
      "metadata": {
        "id": "5VkSKhdx8I5g",
        "colab": {
          "base_uri": "https://localhost:8080/"
        },
        "outputId": "e74a9d41-b51d-483a-b7ec-cd0e9afe4c73"
      },
      "execution_count": null,
      "outputs": [
        {
          "output_type": "stream",
          "name": "stdout",
          "text": [
            "8.3\n"
          ]
        }
      ]
    },
    {
      "cell_type": "code",
      "source": [
        "def media2(nota_1, nota_2, nota_3):\n",
        "  calculo = round(((nota_1 + nota_2 + nota_3) / 3),1)\n",
        "  print(calculo)\n",
        "\n",
        "\n",
        "media2(3, 5, 9)"
      ],
      "metadata": {
        "colab": {
          "base_uri": "https://localhost:8080/"
        },
        "id": "ZG-DD9pBE1Tl",
        "outputId": "79efaabc-e750-4fe0-b0d0-542e755659f6"
      },
      "execution_count": null,
      "outputs": [
        {
          "output_type": "stream",
          "name": "stdout",
          "text": [
            "5.7\n"
          ]
        }
      ]
    },
    {
      "cell_type": "code",
      "source": [
        "notas = [8.5, 9.0, 6.0, 10.0]\n",
        "\n",
        "def media(lista):\n",
        "  calculo = sum(lista) / len(lista)\n",
        "  print(calculo)\n",
        "  return calculo\n",
        "\n",
        "resultado = media(notas)\n",
        "\n",
        "type(resultado)\n"
      ],
      "metadata": {
        "colab": {
          "base_uri": "https://localhost:8080/"
        },
        "id": "iuCnG8jxJFr1",
        "outputId": "91f0a04d-4c83-4663-b194-47db808726ad"
      },
      "execution_count": null,
      "outputs": [
        {
          "output_type": "stream",
          "name": "stdout",
          "text": [
            "8.375\n"
          ]
        },
        {
          "output_type": "execute_result",
          "data": {
            "text/plain": [
              "float"
            ]
          },
          "metadata": {},
          "execution_count": 8
        }
      ]
    },
    {
      "cell_type": "code",
      "source": [
        "notas = [8.5, 9.0, 6.0, 10.0]\n",
        "\n",
        "def media(lista):\n",
        "  calculo = sum(lista) / len(lista)\n",
        "  return calculo\n",
        "\n",
        "resultado = media(notas)\n",
        "\n",
        "print(resultado)\n",
        "type(resultado)"
      ],
      "metadata": {
        "id": "mOGzF2JKMH1X",
        "colab": {
          "base_uri": "https://localhost:8080/"
        },
        "outputId": "1b2f9db0-0cde-453e-a0a7-d264589ff3bd"
      },
      "execution_count": null,
      "outputs": [
        {
          "output_type": "stream",
          "name": "stdout",
          "text": [
            "8.375\n"
          ]
        },
        {
          "output_type": "execute_result",
          "data": {
            "text/plain": [
              "float"
            ]
          },
          "metadata": {},
          "execution_count": 6
        }
      ]
    },
    {
      "cell_type": "code",
      "source": [
        "notas = [8.5, 2, 5, 8]\n",
        "\n",
        "def boletim(lista):\n",
        "  media = sum(lista) / len(lista)\n",
        "\n",
        "  if media >= 6:\n",
        "    situação = 'Aprovado'\n",
        "  else:\n",
        "    situação = 'Reprovado'\n",
        "\n",
        "  return (media, situação)\n",
        "\n",
        "\n",
        "\n",
        "boletim(notas)\n",
        "\n",
        "media, situação  = boletim(notas)\n",
        "print(f'O estudante atingiu a média de {media} e foi {situação}')"
      ],
      "metadata": {
        "colab": {
          "base_uri": "https://localhost:8080/"
        },
        "id": "o-LkK_V6PZzs",
        "outputId": "fe79a43b-568e-4dc2-e65a-60f7cc7ecef4"
      },
      "execution_count": null,
      "outputs": [
        {
          "output_type": "stream",
          "name": "stdout",
          "text": [
            "O estudante atingiu a média de 5.875 e foi Reprovado\n"
          ]
        }
      ]
    },
    {
      "cell_type": "code",
      "source": [
        "notas = [8.5, 9.0, 6.0, 10.0]\n",
        "\n",
        "def media(lista: list) -> float:\n",
        "  calculo = sum(lista) / len(lista)\n",
        "  return calculo\n",
        "\n",
        "\n",
        "media(notas)"
      ],
      "metadata": {
        "colab": {
          "base_uri": "https://localhost:8080/"
        },
        "id": "tpmNrZFlQnZC",
        "outputId": "2075cf1a-30fe-472e-dce8-702ac1ef18ea"
      },
      "execution_count": null,
      "outputs": [
        {
          "output_type": "execute_result",
          "data": {
            "text/plain": [
              "8.375"
            ]
          },
          "metadata": {},
          "execution_count": 15
        }
      ]
    },
    {
      "cell_type": "code",
      "source": [
        "notas = [8.5, 9.0, 6.0, 10.0]\n",
        "\n",
        "def media(lista: list=[0]) -> float:\n",
        "  calculo = sum(lista) / len(lista)\n",
        "  return calculo\n",
        "\n",
        "\n",
        "media(notas)"
      ],
      "metadata": {
        "colab": {
          "base_uri": "https://localhost:8080/"
        },
        "id": "wq8ZSlAvSPBK",
        "outputId": "03f86725-b807-4cc1-d5af-24945aa2aea7"
      },
      "execution_count": null,
      "outputs": [
        {
          "output_type": "execute_result",
          "data": {
            "text/plain": [
              "8.375"
            ]
          },
          "metadata": {},
          "execution_count": 16
        }
      ]
    },
    {
      "cell_type": "code",
      "source": [
        "nota = float(input('Digite a nota do estudante: '))\n",
        "\n",
        "def qualitativo(x):\n",
        "  return x + 0.5\n",
        "\n",
        "\n",
        "qualitativo(nota)"
      ],
      "metadata": {
        "colab": {
          "base_uri": "https://localhost:8080/"
        },
        "id": "K8nepDMxSt7B",
        "outputId": "f3329f49-8d5a-418b-f468-ad405e0b10ed"
      },
      "execution_count": null,
      "outputs": [
        {
          "name": "stdout",
          "output_type": "stream",
          "text": [
            "Digite a nota do estudante: 8\n"
          ]
        },
        {
          "output_type": "execute_result",
          "data": {
            "text/plain": [
              "8.5"
            ]
          },
          "metadata": {},
          "execution_count": 17
        }
      ]
    },
    {
      "cell_type": "code",
      "source": [
        "nota = float(input('Digite a nota do estudante: '))\n",
        "\n",
        "qualitativo = lambda x: x + 0.5\n",
        "\n",
        "qualitativo(nota)"
      ],
      "metadata": {
        "colab": {
          "base_uri": "https://localhost:8080/"
        },
        "id": "uCXr_9PAYpjq",
        "outputId": "8bdb4b10-830c-4e8e-e9f6-721e2193a5ee"
      },
      "execution_count": null,
      "outputs": [
        {
          "name": "stdout",
          "output_type": "stream",
          "text": [
            "Digite a nota do estudante: 8\n"
          ]
        },
        {
          "output_type": "execute_result",
          "data": {
            "text/plain": [
              "8.5"
            ]
          },
          "metadata": {},
          "execution_count": 19
        }
      ]
    },
    {
      "cell_type": "code",
      "source": [
        "N1 = float(input('Digite a 1ª nota do estudante: '))\n",
        "N2 = float(input('Digite a 2ª nota do estudante: '))\n",
        "N3 = float(input('Digite a 3ª nota do estudante: '))\n",
        "\n",
        "media_ponderada = lambda x, y, z: (x * 3 + y * 2 + z * 5) / 10\n",
        "\n",
        "media_estudante = media_ponderada(N1, N2, N3)\n",
        "\n",
        "print(f'O Estudante atingiu a média ponderada de {media_estudante}')"
      ],
      "metadata": {
        "colab": {
          "base_uri": "https://localhost:8080/"
        },
        "id": "ZfuQeAnNY6OD",
        "outputId": "b77be224-e6f4-4933-d79f-f6f4b4f49890"
      },
      "execution_count": null,
      "outputs": [
        {
          "output_type": "stream",
          "name": "stdout",
          "text": [
            "Digite a 1ª nota do estudante: 3\n",
            "Digite a 2ª nota do estudante: 5\n",
            "Digite a 3ª nota do estudante: 10\n",
            "O Estudante atingiu a média ponderada de 6.9\n"
          ]
        }
      ]
    },
    {
      "cell_type": "code",
      "source": [
        "notas = [6.0, 7.0, 9.0, 5.5, 8.0]\n",
        "qualitativo = 0.5\n",
        "\n",
        "notas_atualizadas = lambda x: x + qualitativo\n",
        "\n",
        "notas_atualizadas = map(lambda x: x + qualitativo)"
      ],
      "metadata": {
        "colab": {
          "base_uri": "https://localhost:8080/"
        },
        "id": "as53fOpSZ9kc",
        "outputId": "2c567999-b9d6-4502-b21c-ceda9f56ef31"
      },
      "execution_count": null,
      "outputs": [
        {
          "output_type": "execute_result",
          "data": {
            "text/plain": [
              "36.0"
            ]
          },
          "metadata": {},
          "execution_count": 23
        }
      ]
    },
    {
      "cell_type": "code",
      "source": [
        "notas = [6.0, 7.0, 9.0, 5.5, 8.0]\n",
        "qualitativo = 0.5\n",
        "\n",
        "notas_atualizadas = map(lambda x: x + qualitativo, notas)\n",
        "notas_atualizadas = list(notas_atualizadas)\n",
        "notas_atualizadas\n"
      ],
      "metadata": {
        "colab": {
          "base_uri": "https://localhost:8080/"
        },
        "id": "y_1kX0pQbzeF",
        "outputId": "e2dc9e17-b8da-459d-dde9-a96b69b09903"
      },
      "execution_count": null,
      "outputs": [
        {
          "output_type": "execute_result",
          "data": {
            "text/plain": [
              "[6.5, 7.5, 9.5, 6.0, 8.5]"
            ]
          },
          "metadata": {},
          "execution_count": 29
        }
      ]
    },
    {
      "cell_type": "code",
      "source": [
        "!git --version"
      ],
      "metadata": {
        "id": "B_XopWN4cOEV",
        "outputId": "bd522e72-a903-478c-972f-e5ef2a2de680",
        "colab": {
          "base_uri": "https://localhost:8080/"
        }
      },
      "execution_count": null,
      "outputs": [
        {
          "output_type": "stream",
          "name": "stdout",
          "text": [
            "git version 2.34.1\n"
          ]
        }
      ]
    },
    {
      "cell_type": "code",
      "source": [
        "lista = [16, 14, 63, 65, 17, 99, 70, 11, 20, 48, 79, 32, 17, 89, 12, 25, 66]\n",
        "\n",
        "\n",
        "def information(database):\n",
        "  database_lenght = len(database)\n",
        "  min_value = min(database)\n",
        "  max_value = max(database)\n",
        "  sum_value = sum(database)\n",
        "\n",
        "  print(f'O tamanho da base é {database_lenght}, o valor mínimo é {min_value}  o valor máximo é {max_value}, e a soma dos valores é {sum_value}')\n",
        "\n",
        "information(lista)"
      ],
      "metadata": {
        "id": "2rQYqGu_NWSb",
        "colab": {
          "base_uri": "https://localhost:8080/"
        },
        "outputId": "0dd468e9-0bd5-4947-9d99-ffc670f2c513"
      },
      "execution_count": null,
      "outputs": [
        {
          "output_type": "stream",
          "name": "stdout",
          "text": [
            "O tamanho da base é 17, o valor mínimo é 11  o valor máximo é 99, e a soma dos valores é 743\n"
          ]
        }
      ]
    },
    {
      "cell_type": "code",
      "source": [
        "numero = int(input('Digite um número inteiro de 1 a 10: '))\n",
        "\n",
        "def tabuada(numero: int):\n",
        "  print(f'Tabuada do {numero}: ')\n",
        "  for i in range (11):\n",
        "    resultado = numero * i\n",
        "    print(f'{numero} x {i} = {resultado}')\n",
        "\n",
        "\n",
        "tabuada(numero)"
      ],
      "metadata": {
        "colab": {
          "base_uri": "https://localhost:8080/"
        },
        "id": "V_a33LGyQTN5",
        "outputId": "f0050e6f-3039-45f6-91e3-d5ed0f94412f"
      },
      "execution_count": null,
      "outputs": [
        {
          "output_type": "stream",
          "name": "stdout",
          "text": [
            "Digite um número inteiro de 1 a 10: 8\n",
            "Tabuada do 8: \n",
            "8 x 0 = 0\n",
            "8 x 1 = 8\n",
            "8 x 2 = 16\n",
            "8 x 3 = 24\n",
            "8 x 4 = 32\n",
            "8 x 5 = 40\n",
            "8 x 6 = 48\n",
            "8 x 7 = 56\n",
            "8 x 8 = 64\n",
            "8 x 9 = 72\n",
            "8 x 10 = 80\n"
          ]
        }
      ]
    },
    {
      "cell_type": "code",
      "source": [
        "listinha = [97, 80, 94, 88, 80, 1, 16, 53, 62, 32, 24, 99]\n",
        "\n",
        "mult_3 = []\n",
        "\n",
        "def multiplo_3(lista: list) -> list:\n",
        "  for i in range(len(lista)):\n",
        "    if lista[i] % 3 == 0:\n",
        "      mult_3.append(lista[i])\n",
        "  return mult_3\n",
        "\n",
        "mult_3 = multiplo_3(lista)\n",
        "mult_3"
      ],
      "metadata": {
        "colab": {
          "base_uri": "https://localhost:8080/"
        },
        "id": "9KboR7RPTUL8",
        "outputId": "70a3f10d-b427-4617-8209-3b6f6f2a5b92"
      },
      "execution_count": null,
      "outputs": [
        {
          "output_type": "execute_result",
          "data": {
            "text/plain": [
              "[63, 99, 48, 12, 66]"
            ]
          },
          "metadata": {},
          "execution_count": 6
        }
      ]
    },
    {
      "cell_type": "code",
      "source": [
        "lista = [1, 2, 3, 4, 5, 6, 7, 8, 9, 10]\n",
        "\n",
        "ao_quadrado = lambda x: x ** 2\n",
        "\n",
        "\n",
        "resultado = list(map(ao_quadrado, lista))\n",
        "resultado\n"
      ],
      "metadata": {
        "id": "vZm71LLii7yM",
        "colab": {
          "base_uri": "https://localhost:8080/"
        },
        "outputId": "3c313e72-5093-4216-de90-3c93e49aadcb"
      },
      "execution_count": null,
      "outputs": [
        {
          "output_type": "execute_result",
          "data": {
            "text/plain": [
              "[1, 4, 9, 16, 25, 36, 49, 64, 81, 100]"
            ]
          },
          "metadata": {},
          "execution_count": 1
        }
      ]
    },
    {
      "cell_type": "code",
      "source": [
        "notas = []\n",
        "\n",
        "for i in range(1, 6):\n",
        "  nota = float(input(f'Digite a {i} nota: '))\n",
        "  notas.append(nota)\n",
        "\n",
        "\n",
        "def media(lista):\n",
        "  lista.remove(max(lista))\n",
        "  lista.remove(min(lista))\n",
        "  return sum(lista) / len(lista)\n",
        "\n",
        "\n",
        "media = round(media(notas), 1)\n",
        "\n",
        "print(f'Nota da manobra: {media}')"
      ],
      "metadata": {
        "colab": {
          "base_uri": "https://localhost:8080/"
        },
        "id": "V2D3xR2WC3b4",
        "outputId": "7826e6b7-dbbf-4ab2-f590-6fc0d5ea8a1d"
      },
      "execution_count": null,
      "outputs": [
        {
          "output_type": "stream",
          "name": "stdout",
          "text": [
            "Digite a 1 nota: 8.4\n",
            "Digite a 2 nota: 5.6\n",
            "Digite a 3 nota: 7.9\n",
            "Digite a 4 nota: 1.2\n",
            "Digite a 5 nota: 9.4\n",
            "Nota da manobra: 7.3\n"
          ]
        }
      ]
    },
    {
      "cell_type": "code",
      "source": [
        "notas = []\n",
        "\n",
        "for i in range(1, 4):\n",
        "  nota = float(input(f'Digite a {i}ª nota: '))\n",
        "  notas.append(nota)\n",
        "\n",
        "def cadastro(lista):\n",
        "  maior = max(lista)\n",
        "  menor = min(lista)\n",
        "  media = round(sum(lista) / len(lista), 1)\n",
        "\n",
        "  if media >= 6:\n",
        "    situacao = 'Aprovado'\n",
        "  else:\n",
        "    situacao = 'Reprovado'\n",
        "\n",
        "  return(media, maior, menor, situacao)\n",
        "\n",
        "media, maior, menor, situacao = cadastro(notas)\n",
        "\n",
        "print(f'O estudante obteve uma media de {media}, com a maior nota de {maior}, a menor nota foi {menor}, e a situacao é {situacao} ')"
      ],
      "metadata": {
        "colab": {
          "base_uri": "https://localhost:8080/"
        },
        "id": "_GPu5AZbD0V9",
        "outputId": "8d5d8ffe-f2c9-4e6f-fef0-d2a560ca2a1b"
      },
      "execution_count": null,
      "outputs": [
        {
          "output_type": "stream",
          "name": "stdout",
          "text": [
            "Digite a 1ª nota: 6\n",
            "Digite a 2ª nota: 5\n",
            "Digite a 3ª nota: 9\n",
            "O estudante obteve uma media de 6.7, com a maior nota de 9.0, a menor nota foi 5.0, e a situacao é Aprovado \n"
          ]
        }
      ]
    },
    {
      "cell_type": "code",
      "source": [
        "nomes = [\"joão\", \"MaRia\", \"JOSÉ\"]\n",
        "sobrenomes = [\"SILVA\", \"souza\", \"Tavares\"]\n",
        "\n",
        "nome_completo = map(lambda nome, sobrenome: f'{nome.title()} {sobrenome.title()}', nomes, sobrenomes)\n",
        "\n",
        "for n in nome_completo:\n",
        "  print(f'Nome completo: {n}')"
      ],
      "metadata": {
        "colab": {
          "base_uri": "https://localhost:8080/"
        },
        "id": "Wp1e1wZFHJ78",
        "outputId": "a80a36e0-85c2-4610-bd34-3ee0067cdb9f"
      },
      "execution_count": null,
      "outputs": [
        {
          "output_type": "stream",
          "name": "stdout",
          "text": [
            "Nome completo: João Silva\n",
            "Nome completo: Maria Souza\n",
            "Nome completo: José Tavares\n"
          ]
        }
      ]
    },
    {
      "cell_type": "code",
      "source": [
        "gols_marcados = [2, 1, 3, 1, 0]\n",
        "gols_sofridos = [1, 2, 2, 1, 3]\n",
        "\n",
        "\n",
        "def calcula_pontos(gols_marcados, gols_sofridos):\n",
        "  pontos = 0\n",
        "\n",
        "  for i in range(len(gols_marcados)):\n",
        "    if gols_marcados[i] > gols_sofridos[i]:\n",
        "      pontos += 3\n",
        "    elif gols_marcados[i] == gols_sofridos[i]:\n",
        "      pontos += 1\n",
        "  aprov = 100 * pontos / (len(gols_marcados))\n",
        "  return (pontos, aprov)\n",
        "\n",
        "pontos, aprov = calcula_pontos(gols_marcados, gols_sofridos)\n",
        "print(f'A pontucao do time foi de {pontos} e o aproveitamento de {round(aprov)}%')"
      ],
      "metadata": {
        "colab": {
          "base_uri": "https://localhost:8080/"
        },
        "id": "0Psu-dt4JEph",
        "outputId": "cefb96fb-022b-423c-855b-c9fa0bc989a8"
      },
      "execution_count": null,
      "outputs": [
        {
          "output_type": "stream",
          "name": "stdout",
          "text": [
            "A pontucao do time foi de 7 e o aproveitamento de 140%\n"
          ]
        }
      ]
    },
    {
      "cell_type": "code",
      "source": [
        "dias = int(input('Quantas diárias?: '))\n",
        "cidade = input('Qual a cidade? [Salvador, Fortaleza, Natal, Aracaju]: ')\n",
        "distancias = [850, 800, 300, 550]\n",
        "passeio = [200, 400, 250, 300]\n",
        "km_1 = 14\n",
        "gasolina = 5\n",
        "\n",
        "def gasto_hotel(dias):\n",
        "  return 150 * dias\n",
        "\n",
        "\n",
        "def gasto_gasolina(cidade):\n",
        "  if cidade == 'Salvador':\n",
        "    return (2 * distancias[0] * gasolina) / km_1\n",
        "  elif cidade == 'Fortaleza':\n",
        "    return (2 * distancias[1] * gasolina) / km_1\n",
        "  elif cidade == 'Natal':\n",
        "    return (2 * distancias[2] * gasolina) / km_1\n",
        "  elif cidade == 'Aracaju':\n",
        "    return (2 * distancias[3] * gasolina) / km_1\n",
        "\n",
        "\n",
        "def gasto_passeio(cidade, dias):\n",
        "  if cidade == 'Salvador':\n",
        "    return passeio[0] * dias\n",
        "  elif cidade == 'Fortaleza':\n",
        "    return passeio[1] * dias\n",
        "  elif cidade == 'Natal' :\n",
        "    return passeio[2] * dias\n",
        "  elif cidade == 'Aracaju':\n",
        "    return passeio[3] * dias\n",
        "\n",
        "gastos = gasto_hotel(dias) + gasto_gasolina(cidade) + gasto_passeio(cidade, dias)\n",
        "print(f\"Com base nos gastos definidos, uma viagem de {dias} dias para {cidade} saindo de Recife custaria {round(gastos, 2)} reais\")"
      ],
      "metadata": {
        "colab": {
          "base_uri": "https://localhost:8080/"
        },
        "id": "9ryQDNiCMbyj",
        "outputId": "4bca8f0e-5ca1-43f6-aa4c-20e6c3c3d1c7"
      },
      "execution_count": null,
      "outputs": [
        {
          "output_type": "stream",
          "name": "stdout",
          "text": [
            "Quantas diárias?: 8\n",
            "Qual a cidade? [Salvador, Fortaleza, Natal, Aracaju]: Salvador\n",
            "Com base nos gastos definidos, uma viagem de 8 dias para Salvador saindo de Recife custaria 3407.14 reais\n"
          ]
        }
      ]
    },
    {
      "cell_type": "code",
      "source": [
        "\n",
        "frase = input(\"Digite uma frase: \")\n",
        "frase = frase.replace(',',' ').replace('.',' ').replace('!',' ').replace('?',' ').split()\n",
        "\n",
        "tamanho = list(filter(lambda x: len(x) >= 5, frase))\n",
        "print(tamanho)\n",
        "\n"
      ],
      "metadata": {
        "colab": {
          "base_uri": "https://localhost:8080/"
        },
        "id": "uE-LCmC-SNfc",
        "outputId": "3bec0a1c-cd01-4228-dd15-c15372076982"
      },
      "execution_count": null,
      "outputs": [
        {
          "output_type": "stream",
          "name": "stdout",
          "text": [
            "Digite uma frase: arroz com feijao é bom\n",
            "['arroz', 'feijao']\n"
          ]
        }
      ]
    },
    {
      "cell_type": "code",
      "source": [
        "frase = input('Digite uma frase: ')\n",
        "\n",
        "frase = frase.replace(',',' ').replace('.',' ').replace('!',' ').replace('?',' ').split()\n",
        "\n",
        "tamanho = list(filter(lambda x: len(x) >= 5, frase))\n",
        "print(tamanho)"
      ],
      "metadata": {
        "id": "yYYKGdcPSwVe",
        "colab": {
          "base_uri": "https://localhost:8080/"
        },
        "outputId": "37608f59-68a2-4b2e-c3c5-a82d0080283d"
      },
      "execution_count": null,
      "outputs": [
        {
          "output_type": "stream",
          "name": "stdout",
          "text": [
            "Digite uma frase: arroz com café\n",
            "['arroz']\n"
          ]
        }
      ]
    },
    {
      "cell_type": "code",
      "source": [
        "id = [1, 2, 3, 4, 5]\n",
        "regiao = [\"Norte\", \"Nordeste\", \"Sudeste\", \"Centro-Oeste\", \"Sul\"]\n",
        "\n",
        "mapa = list(zip(id, regiao))\n",
        "mapa\n"
      ],
      "metadata": {
        "id": "U2MYQBNxF2NB",
        "colab": {
          "base_uri": "https://localhost:8080/"
        },
        "outputId": "b8ef7dcb-5c4a-41a1-8e18-dc041742d12c"
      },
      "execution_count": null,
      "outputs": [
        {
          "output_type": "execute_result",
          "data": {
            "text/plain": [
              "[(1, 'Norte'),\n",
              " (2, 'Nordeste'),\n",
              " (3, 'Sudeste'),\n",
              " (4, 'Centro-Oeste'),\n",
              " (5, 'Sul')]"
            ]
          },
          "metadata": {},
          "execution_count": 1
        }
      ]
    },
    {
      "cell_type": "code",
      "source": [
        "tupla_iteravel = [('J392', 'João'), ('M890', 'Maria'), ('J681', 'José'), ('C325', 'Claúdia'), ('A49', 'Ana')]\n",
        "ids, nomes  = zip(*tupla_iteravel)\n",
        "\n",
        "ids = list(ids)\n",
        "nomes = list(nomes)\n",
        "\n",
        "print(\"IDs = \", ids)\n",
        "print(\"Nomes = \", nomes)\n"
      ],
      "metadata": {
        "colab": {
          "base_uri": "https://localhost:8080/"
        },
        "id": "HZFjVXMSo0pr",
        "outputId": "08f572ce-7b96-49cb-e55f-776a70d3867f"
      },
      "execution_count": null,
      "outputs": [
        {
          "output_type": "stream",
          "name": "stdout",
          "text": [
            "IDs =  ['J392', 'M890', 'J681', 'C325', 'A49']\n",
            "Nomes =  ['João', 'Maria', 'José', 'Claúdia', 'Ana']\n"
          ]
        }
      ]
    },
    {
      "cell_type": "code",
      "source": [
        "alturas = [1.70, 1.80, 1.65, 1.75, 1.90]\n",
        "pesos = [65, 80, 58, 70, 95]\n",
        "\n",
        "imc = [round((peso / altura**2), 1) for altura, peso in zip(alturas, pesos)]\n",
        "print(imc)\n"
      ],
      "metadata": {
        "colab": {
          "base_uri": "https://localhost:8080/"
        },
        "id": "NyRulpaJ69Ag",
        "outputId": "c9580c4a-b129-4a5c-b071-e661f5ba4bbf"
      },
      "execution_count": null,
      "outputs": [
        {
          "output_type": "stream",
          "name": "stdout",
          "text": [
            "[22.5, 24.7, 21.3, 22.9, 26.3]\n"
          ]
        }
      ]
    },
    {
      "cell_type": "code",
      "source": [
        "lista_de_listas = [[4,6,5,9], [1,0,7,2], [3,4,1,8]]\n",
        "\n",
        "\n",
        "for lista in lista_de_listas:\n",
        "  print(sum(lista))"
      ],
      "metadata": {
        "id": "hmUKEwU7pSqB",
        "colab": {
          "base_uri": "https://localhost:8080/"
        },
        "outputId": "1badd1ee-a90b-4717-8c96-6da44b7b0859"
      },
      "execution_count": null,
      "outputs": [
        {
          "output_type": "stream",
          "name": "stdout",
          "text": [
            "24\n",
            "10\n",
            "16\n"
          ]
        }
      ]
    },
    {
      "cell_type": "code",
      "source": [
        "lista_de_tuplas = [('Pedro', 1.74, 81), ('Júlia', 1.65, 67), ('Otávio', 1.81, 83)]\n",
        "lista = []\n",
        "\n",
        "for tupla in lista_de_tuplas:\n",
        "  lista.append(tupla[2])\n",
        "\n",
        "print(lista)"
      ],
      "metadata": {
        "colab": {
          "base_uri": "https://localhost:8080/"
        },
        "id": "Wq35o0Z32vE5",
        "outputId": "76d2db3e-dd1b-4c5e-e499-b4e9367ecc10"
      },
      "execution_count": null,
      "outputs": [
        {
          "output_type": "stream",
          "name": "stdout",
          "text": [
            "[81, 67, 83]\n"
          ]
        }
      ]
    },
    {
      "cell_type": "code",
      "source": [
        "lista = ['Pedro', 'Júlia', 'Otávio', 'Eduardo']\n",
        "lista_de_tuplas = []\n",
        "\n",
        "for i in range(len(lista)):\n",
        "  lista_de_tuplas.append((i, lista[i]))\n",
        "\n",
        "print(lista_de_tuplas)\n"
      ],
      "metadata": {
        "colab": {
          "base_uri": "https://localhost:8080/"
        },
        "id": "X-kzkLED26_3",
        "outputId": "3345c223-ba2f-4a81-9570-0650d0213d42"
      },
      "execution_count": null,
      "outputs": [
        {
          "output_type": "stream",
          "name": "stdout",
          "text": [
            "[(0, 'Pedro'), (1, 'Júlia'), (2, 'Otávio'), (3, 'Eduardo')]\n"
          ]
        }
      ]
    },
    {
      "cell_type": "code",
      "source": [
        "aluguel = [('Apartamento', 1700), ('Apartamento', 1400), ('Casa', 2150), ('Apartamento', 1900), ('Casa', 1100)]\n",
        "\n",
        "lista = [tupla[1] for tupla in aluguel if tupla[0] == 'Apartamento']\n",
        "print(lista)"
      ],
      "metadata": {
        "colab": {
          "base_uri": "https://localhost:8080/"
        },
        "id": "5IxHAIgp3m7r",
        "outputId": "da678c68-578d-4dfc-d6ed-fc3861497840"
      },
      "execution_count": null,
      "outputs": [
        {
          "output_type": "stream",
          "name": "stdout",
          "text": [
            "[1700, 1400, 1900]\n"
          ]
        }
      ]
    },
    {
      "cell_type": "code",
      "source": [
        "meses = ['Jan', 'Fev', 'Mar', 'Abr', 'Mai', 'Jun', 'Jul', 'Ago', 'Set', 'Out', 'Nov', 'Dez']\n",
        "despesa = [860, 490, 1010, 780, 900, 630, 590, 770, 620, 560, 840, 360]\n",
        "\n",
        "dictionario = {meses[i]: despesa[i] for i in range(len(meses))}\n",
        "print(dictionario)"
      ],
      "metadata": {
        "colab": {
          "base_uri": "https://localhost:8080/"
        },
        "id": "iZywO7TR4CHJ",
        "outputId": "9dc158b3-b444-4266-9ba1-50e967188328"
      },
      "execution_count": null,
      "outputs": [
        {
          "output_type": "stream",
          "name": "stdout",
          "text": [
            "{'Jan': 860, 'Fev': 490, 'Mar': 1010, 'Abr': 780, 'Mai': 900, 'Jun': 630, 'Jul': 590, 'Ago': 770, 'Set': 620, 'Out': 560, 'Nov': 840, 'Dez': 360}\n"
          ]
        }
      ]
    },
    {
      "cell_type": "code",
      "source": [
        "vendas = [('2023', 4093), ('2021', 4320), ('2021', 5959), ('2022', 8883), ('2023', 9859), ('2022', 5141), ('2022', 7688), ('2022', 9544), ('2023', 4794), ('2021', 7178), ('2022', 3030), ('2021', 7471), ('2022', 4226), ('2022', 8190), ('2021', 9680), ('2022', 5616)]\n",
        "\n",
        "filtro = [tupla[1] for tupla in vendas if tupla[0] == '2022' and tupla[1] > 6000]\n",
        "print(filtro)"
      ],
      "metadata": {
        "colab": {
          "base_uri": "https://localhost:8080/"
        },
        "id": "0rlK95Kq4d6T",
        "outputId": "bec02dd2-a0e2-4cf0-cd0e-b425ef66f056"
      },
      "execution_count": null,
      "outputs": [
        {
          "output_type": "stream",
          "name": "stdout",
          "text": [
            "[8883, 7688, 9544, 8190]\n"
          ]
        }
      ]
    },
    {
      "cell_type": "code",
      "source": [
        "glicemia = [129, 82, 60, 97, 101, 65, 62, 167, 87, 53, 58, 92, 66, 120, 109, 62, 86, 96, 103, 88, 155, 52, 89, 73]\n",
        "\n",
        "\n",
        "rotulos = [('Hipoglicemia', glicose) if glicose <= 70 else ('Normal', glicose) if glicose < 100 else ('Alterada', glicose) if glicose < 125 else ('Diabetes', glicose) for glicose in glicemia]\n",
        "print(rotulos)"
      ],
      "metadata": {
        "colab": {
          "base_uri": "https://localhost:8080/"
        },
        "id": "_Yh0PEpF47sB",
        "outputId": "bcd972b1-e5ef-4f7e-d5ff-e455fb10f880"
      },
      "execution_count": null,
      "outputs": [
        {
          "output_type": "stream",
          "name": "stdout",
          "text": [
            "[('Diabetes', 129), ('Normal', 82), ('Hipoglicemia', 60), ('Normal', 97), ('Alterada', 101), ('Hipoglicemia', 65), ('Hipoglicemia', 62), ('Diabetes', 167), ('Normal', 87), ('Hipoglicemia', 53), ('Hipoglicemia', 58), ('Normal', 92), ('Hipoglicemia', 66), ('Alterada', 120), ('Alterada', 109), ('Hipoglicemia', 62), ('Normal', 86), ('Normal', 96), ('Alterada', 103), ('Normal', 88), ('Diabetes', 155), ('Hipoglicemia', 52), ('Normal', 89), ('Normal', 73)]\n"
          ]
        }
      ]
    },
    {
      "cell_type": "code",
      "source": [
        "id = [0, 1, 2, 3, 4, 5, 6, 7, 8, 9]\n",
        "quantidade = [15, 12, 1, 15, 2, 11, 2, 12, 2, 4]\n",
        "preco = [93.0, 102.0, 18.0, 41.0, 122.0, 14.0, 71.0, 48.0, 14.0, 144.0]\n",
        "\n",
        "\n",
        "tabela = [('id', 'quantidade', 'preco', 'total')]\n",
        "tabela += [(id[i], quantidade[i], preco[i], quantidade[i]*preco[i]) for i in range(len(id))]\n",
        "\n",
        "print(tabela)"
      ],
      "metadata": {
        "id": "a1MYtN4c64T0",
        "colab": {
          "base_uri": "https://localhost:8080/"
        },
        "outputId": "44e4e77a-ec0b-4618-d848-35d0a62e5ab9"
      },
      "execution_count": null,
      "outputs": [
        {
          "output_type": "stream",
          "name": "stdout",
          "text": [
            "[('id', 'quantidade', 'preco', 'total'), (0, 15, 93.0, 1395.0), (1, 12, 102.0, 1224.0), (2, 1, 18.0, 18.0), (3, 15, 41.0, 615.0), (4, 2, 122.0, 244.0), (5, 11, 14.0, 154.0), (6, 2, 71.0, 142.0), (7, 12, 48.0, 576.0), (8, 2, 14.0, 28.0), (9, 4, 144.0, 576.0)]\n"
          ]
        }
      ]
    },
    {
      "cell_type": "code",
      "source": [
        "estados = ['SP', 'ES', 'MG', 'MG', 'SP', 'MG', 'ES', 'ES', 'ES', 'SP', 'SP', 'MG', 'ES', 'SP', 'RJ', 'MG', 'RJ', 'SP', 'MG', 'SP', 'ES', 'SP', 'MG']\n",
        "\n",
        "estados_unicos = list(set(estados))\n",
        "lista_de_listas = []\n",
        "\n",
        "for estado in estados_unicos:\n",
        "  lista = [uf for uf in estados if uf == estado]\n",
        "  lista_de_listas.append(lista)\n",
        "print(lista_de_listas)\n",
        "\n",
        "contagem_valores = {estados_unicos[i]: len(lista_de_listas[i]) for i in range(len(estados_unicos))}\n",
        "print(contagem_valores)"
      ],
      "metadata": {
        "colab": {
          "base_uri": "https://localhost:8080/"
        },
        "id": "vIYd2mK99Kem",
        "outputId": "2190fa7c-f0a8-4e8b-c3a1-b3b1355838b3"
      },
      "execution_count": null,
      "outputs": [
        {
          "output_type": "stream",
          "name": "stdout",
          "text": [
            "[['SP', 'SP', 'SP', 'SP', 'SP', 'SP', 'SP', 'SP'], ['ES', 'ES', 'ES', 'ES', 'ES', 'ES'], ['RJ', 'RJ'], ['MG', 'MG', 'MG', 'MG', 'MG', 'MG', 'MG']]\n",
            "{'SP': 8, 'ES': 6, 'RJ': 2, 'MG': 7}\n"
          ]
        }
      ]
    },
    {
      "cell_type": "code",
      "source": [
        "funcionarios = [('SP', 16), ('ES', 8), ('MG', 9), ('MG', 6), ('SP', 10), ('MG', 4), ('ES',9), ('ES', 7), ('ES', 12), ('SP', 7), ('SP', 11), ('MG',8), ('ES',8), ('SP',9), ('RJ', 13), ('MG', 5), ('RJ', 9), ('SP', 12), ('MG', 10), ('SP', 7), ('ES', 14), ('SP', 10), ('MG', 12)]\n",
        "\n",
        "\n",
        "estado_unicos = list(set([tupla[0] for tupla in funcionarios]))\n",
        "print(estado_unicos)\n",
        "\n",
        "lista_de_listas = []\n",
        "\n",
        "for estado in estados_unicos:\n",
        "  lista = [tupla[1] for tupla in funcionarios if tupla[0] == estado]\n",
        "  lista_de_listas.append(lista)\n",
        "print(lista_de_listas)\n",
        "\n",
        "agrupamento_por_estado = {estado_unicos[i]: lista_de_listas[i] for i in range(len(estado_unicos))}\n",
        "print(agrupamento_por_estado)\n",
        "\n",
        "soma_por_estado = {estados_unicos[i]: sum(lista_de_listas[i]) for i in range(len(estado_unicos))}\n",
        "print(soma_por_estado)"
      ],
      "metadata": {
        "colab": {
          "base_uri": "https://localhost:8080/"
        },
        "id": "0JVlsm1U-Wls",
        "outputId": "eb1b5019-d0d2-4584-bbb8-729e4f94cef9"
      },
      "execution_count": null,
      "outputs": [
        {
          "output_type": "stream",
          "name": "stdout",
          "text": [
            "['SP', 'ES', 'RJ', 'MG']\n",
            "[[16, 10, 7, 11, 9, 12, 7, 10], [8, 9, 7, 12, 8, 14], [13, 9], [9, 6, 4, 8, 5, 10, 12]]\n",
            "{'SP': [16, 10, 7, 11, 9, 12, 7, 10], 'ES': [8, 9, 7, 12, 8, 14], 'RJ': [13, 9], 'MG': [9, 6, 4, 8, 5, 10, 12]}\n",
            "{'SP': 82, 'ES': 58, 'RJ': 22, 'MG': 54}\n"
          ]
        }
      ]
    },
    {
      "cell_type": "code",
      "source": [
        "try:\n",
        "  numero_1 = float(input())\n",
        "  numero_2 = float(input())\n",
        "  divisao = round(numero_1 / numero_2, 1)\n",
        "  print(divisao)\n",
        "except Exception as e:\n",
        "  print(type(e), f'Erro: {e}')"
      ],
      "metadata": {
        "colab": {
          "base_uri": "https://localhost:8080/"
        },
        "id": "h_CsV6gSAzcF",
        "outputId": "fc06d95a-e611-4209-c239-ad8df491e31d"
      },
      "execution_count": null,
      "outputs": [
        {
          "output_type": "stream",
          "name": "stdout",
          "text": [
            "arroz\n",
            "<class 'ValueError'> Erro: could not convert string to float: 'arroz'\n"
          ]
        }
      ]
    },
    {
      "cell_type": "code",
      "source": [
        "idades = {'Júlia': 16, 'Carol': 23, 'Alberto': 19, 'Roberta': 17}\n",
        "\n",
        "try:\n",
        "  chave = input()\n",
        "  valor = idades[chave]\n",
        "except KeyError:\n",
        "  print('Nome não encontrado')\n",
        "else:\n",
        "  print(valor)"
      ],
      "metadata": {
        "colab": {
          "base_uri": "https://localhost:8080/"
        },
        "id": "xT0imUlI1kO2",
        "outputId": "8bae7e18-9cc5-4b96-d063-6fd2547c9007"
      },
      "execution_count": null,
      "outputs": [
        {
          "output_type": "stream",
          "name": "stdout",
          "text": [
            "Jhonatta\n",
            "Nome não encontrado\n"
          ]
        }
      ]
    },
    {
      "cell_type": "code",
      "source": [
        "def converte_lista(lista):\n",
        "  try:\n",
        "    nova_lista = [float(elemento) for elemento in lista]\n",
        "  except Exception as e:\n",
        "    print(type(e), f'Erro: {e}')\n",
        "  else:\n",
        "    return nova_lista\n",
        "  finally:\n",
        "    print('Fim da execução da função!')"
      ],
      "metadata": {
        "id": "pYHtN4hu3fUm"
      },
      "execution_count": null,
      "outputs": []
    },
    {
      "cell_type": "code",
      "source": [
        "lista1 = [4,6,7,9,10,4]\n",
        "lista2 = [-4,6,8,7,9]\n",
        "\n",
        "lista1 = [4,6,7,9,10]\n",
        "lista2 = [-4,6,8,7,9]\n",
        "\n",
        "lista1 = [4,6,7,9,'A']\n",
        "lista2 = [-4,'E',8,7,9]\n",
        "\n",
        "\n",
        "\n",
        "\n",
        "def soma_listas(lista1, lista2):\n",
        "  try:\n",
        "    if len(lista1) == len(lista2):\n",
        "      dados = [(lista1[i], lista2[i], lista1[i]+lista2[i]) for i in range(len(lista1))]\n",
        "    else:\n",
        "      raise IndexError('A quantidade de elementos em cada lista é diferente')\n",
        "  except Exception as e:\n",
        "    print(type(e), f'Erro: {e}')\n",
        "  else:\n",
        "    return dados\n",
        "\n",
        "\n",
        "soma_listas(lista1, lista2)"
      ],
      "metadata": {
        "colab": {
          "base_uri": "https://localhost:8080/"
        },
        "id": "SzBjwxab38PA",
        "outputId": "8045a42d-a5a3-480b-d227-f524b68b20f8"
      },
      "execution_count": null,
      "outputs": [
        {
          "output_type": "stream",
          "name": "stdout",
          "text": [
            "<class 'TypeError'> Erro: unsupported operand type(s) for +: 'int' and 'str'\n"
          ]
        }
      ]
    },
    {
      "cell_type": "code",
      "source": [
        "gabarito = ['D', 'A', 'B', 'C', 'A']\n",
        "\n",
        "\n"
      ],
      "metadata": {
        "id": "jOt-gfT24_zO"
      },
      "execution_count": null,
      "outputs": []
    }
  ],
  "metadata": {
    "colab": {
      "provenance": [],
      "authorship_tag": "ABX9TyMSDv0Go4COShLMPvr/UqLF",
      "include_colab_link": true
    },
    "kernelspec": {
      "display_name": "Python 3",
      "name": "python3"
    },
    "language_info": {
      "name": "python"
    }
  },
  "nbformat": 4,
  "nbformat_minor": 0
}